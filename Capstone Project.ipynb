{
    "cells": [
        {
            "cell_type": "markdown",
            "metadata": {
                "collapsed": true
            },
            "source": "# APPLIED DATA SCIENCE CAPSTONE PROJECT\n## The Battle of Neighbourhoods"
        },
        {
            "cell_type": "markdown",
            "metadata": {},
            "source": "In this project I will be analyzing neighbourhoods of Basel City, Switzerland, and cluster them using k-Means clustering algorithm to identify those that would suit my taste for moving best.\n\nQuestions to be addressed:\n\n1. What are the features I am looking for in the neighbourhood?\n2. What kind of data is required?\n3. Where to collect the data from? \n4. How to collect the data?\n"
        },
        {
            "cell_type": "markdown",
            "metadata": {},
            "source": "### 1. Download all necessary libraries"
        },
        {
            "cell_type": "code",
            "execution_count": 1,
            "metadata": {},
            "outputs": [
                {
                    "name": "stdout",
                    "output_type": "stream",
                    "text": "Libraries imported.\n"
                }
            ],
            "source": "import numpy as np # library to handle data in a vectorized manner\n\nimport pandas as pd # library for data analsysis\npd.set_option('display.max_columns', None)\npd.set_option('display.max_rows', None)\n\nimport json # library to handle JSON files\n\nimport requests # library to handle requests\nfrom pandas.io.json import json_normalize # tranform JSON file into a pandas dataframe\n\n# Matplotlib and associated plotting modules\nimport matplotlib.cm as cm\nimport matplotlib.colors as colors\n\n# import k-means from clustering stage\nfrom sklearn.cluster import KMeans\n\nfrom bs4 import BeautifulSoup\n\nprint('Libraries imported.')"
        },
        {
            "cell_type": "markdown",
            "metadata": {},
            "source": "### 2. Collecting Basel data\nScraping the relevant web-page for Basel district data and creating a dataframe with Postal Codes and Quartieres' names."
        },
        {
            "cell_type": "code",
            "execution_count": 2,
            "metadata": {},
            "outputs": [],
            "source": "url = 'https://www.plz-suche.org/basel-ch7874'\n\nr = requests.get(url)\nsoup = BeautifulSoup(r.content, 'html5lib')"
        },
        {
            "cell_type": "code",
            "execution_count": 3,
            "metadata": {},
            "outputs": [],
            "source": "# finding the right table\ntable = soup.find('table', {'class': 'list-location tablesorter tablesorter-location'})"
        },
        {
            "cell_type": "code",
            "execution_count": 4,
            "metadata": {},
            "outputs": [
                {
                    "name": "stdout",
                    "output_type": "stream",
                    "text": "[['PLZ', 'Name', 'Typ', '\\xa0'], ['4001-4051', 'Altstadt Grossbasel', 'Quartier', ''], ['4058', 'Altstadt Kleinbasel', 'Quartier', ''], ['4051-4056', 'Am Ring', 'Quartier', ''], ['4054', 'Bachletten', 'Quartier', ''], ['4052', 'Breite', 'Quartier', ''], ['4059', 'Bruderholz', 'Quartier', ''], ['4058', 'Clara', 'Quartier', ''], ['4054', 'Gotthelf', 'Quartier', ''], ['4053', 'Gundeldingen', 'Quartier', ''], ['4058', 'Hirzbrunnen', 'Quartier', ''], ['4055', 'Iselin', 'Quartier', ''], ['4057', 'Kleinh\u00fcningen', 'Quartier', ''], ['4057', 'Klybeck', 'Quartier', ''], ['4057', 'Matth\u00e4us', 'Quartier', ''], ['4058', 'Rosental', 'Quartier', ''], ['4052', 'Sankt Alban', 'Quartier', ''], ['4056', 'Sankt Johann', 'Quartier', ''], ['4051', 'Vorst\u00e4dte', 'Quartier', ''], ['4058', 'Wettstein', 'Quartier', '']]\n"
                }
            ],
            "source": "# scraping the table\ntable_contents=[]\n\nfor row in table.findAll('tr'):\n    cell = []\n    for td in row:\n        try:\n            cell.append(td.text.replace('\\n', ''))\n        except:\n            continue\n            \n    if len(cell) > 0:\n        table_contents.append(cell)\n    \nprint(table_contents)"
        },
        {
            "cell_type": "code",
            "execution_count": 5,
            "metadata": {},
            "outputs": [
                {
                    "name": "stdout",
                    "output_type": "stream",
                    "text": "           0                    1         2  3\n0        PLZ                 Name       Typ  \u00a0\n1  4001-4051  Altstadt Grossbasel  Quartier   \n2       4058  Altstadt Kleinbasel  Quartier   \n3  4051-4056              Am Ring  Quartier   \n4       4054           Bachletten  Quartier   \n5       4052               Breite  Quartier   \n6       4059           Bruderholz  Quartier   \n7       4058                Clara  Quartier   \n8       4054             Gotthelf  Quartier   \n9       4053         Gundeldingen  Quartier   \n"
                }
            ],
            "source": "# creating a dataframe\ndf = pd.DataFrame(table_contents)\nprint(df.head(10))"
        },
        {
            "cell_type": "code",
            "execution_count": 6,
            "metadata": {},
            "outputs": [],
            "source": "# cleaning up the data\ndf.drop([2, 3], axis = 1, inplace = True)\ndf.drop(0, axis = 0, inplace = True)\ndf.columns = ['Postal Code', 'Quartiere']"
        },
        {
            "cell_type": "code",
            "execution_count": 7,
            "metadata": {},
            "outputs": [
                {
                    "name": "stdout",
                    "output_type": "stream",
                    "text": "   Postal Code            Quartiere\n1    4001-4051  Altstadt Grossbasel\n2         4058  Altstadt Kleinbasel\n3    4051-4056              Am Ring\n4         4054           Bachletten\n5         4052               Breite\n6         4059           Bruderholz\n7         4058                Clara\n8         4054             Gotthelf\n9         4053         Gundeldingen\n10        4058          Hirzbrunnen\n11        4055               Iselin\n12        4057        Kleinh\u00fcningen\n13        4057              Klybeck\n14        4057             Matth\u00e4us\n15        4058             Rosental\n16        4052          Sankt Alban\n17        4056         Sankt Johann\n18        4051            Vorst\u00e4dte\n19        4058            Wettstein\nThere are 19 quartieres in Basel City.\n"
                }
            ],
            "source": "print(df)\nprint('There are {} quartieres in Basel City.'. format(df.shape[0]))"
        },
        {
            "cell_type": "markdown",
            "metadata": {},
            "source": "Their postal codes are not unique, as they overlap over neighbouring districts. \n\nLet's collect the latitude and longitude values for each quartiere. This information will be required for obtaining venue information for each district."
        },
        {
            "cell_type": "code",
            "execution_count": 13,
            "metadata": {},
            "outputs": [],
            "source": "#!conda install -c conda-forge geopy --yes # uncomment if needed\nfrom geopy.geocoders import Nominatim # convert an address into latitude and longitude values"
        },
        {
            "cell_type": "code",
            "execution_count": 30,
            "metadata": {},
            "outputs": [],
            "source": "# collecting the geospacial data for the quartieres\ngeolocator = Nominatim(user_agent=\"ny_explorer\")\ncoords = []\n\nfor quartiere in df['Quartiere']:\n    latlon = {}\n    address = quartiere + ', Basel, Switzerland'\n    location = geolocator.geocode(address)\n    latlon['Quartiere'] = quartiere\n    latlon['Latitude'] = location.latitude\n    latlon['Longitude'] = location.longitude\n    coords.append(latlon)"
        },
        {
            "cell_type": "code",
            "execution_count": 31,
            "metadata": {},
            "outputs": [],
            "source": "# converting coordinates data into a dataframe\ncoordinates = pd.DataFrame(coords)"
        },
        {
            "cell_type": "code",
            "execution_count": 32,
            "metadata": {},
            "outputs": [
                {
                    "name": "stdout",
                    "output_type": "stream",
                    "text": "   Postal Code            Quartiere   Latitude  Longitude\n0    4001-4051  Altstadt Grossbasel  47.556427   7.588259\n1         4058  Altstadt Kleinbasel  47.560700   7.593382\n2    4051-4056              Am Ring  47.558774   7.577477\n3         4054           Bachletten  47.548566   7.571726\n4         4052               Breite  47.551809   7.617853\n5         4059           Bruderholz  47.530799   7.591624\n6         4058                Clara  47.564085   7.596629\n7         4054             Gotthelf  47.555819   7.570952\n8         4053         Gundeldingen  47.543219   7.591485\n9         4058          Hirzbrunnen  47.568873   7.615470\n10        4055               Iselin  47.562196   7.565999\n11        4057        Kleinh\u00fcningen  47.583376   7.597574\n12        4057              Klybeck  47.576798   7.590149\n13        4057             Matth\u00e4us  47.567439   7.591540\n14        4058             Rosental  47.567708   7.601491\n15        4052          Sankt Alban  47.549565   7.605052\n16        4056         Sankt Johann  47.569086   7.575934\n17        4051            Vorst\u00e4dte  47.552646   7.588804\n18        4058            Wettstein  47.560508   7.604795\n"
                }
            ],
            "source": "basel_data = pd.merge(df, coordinates, left_on = 'Quartiere', right_on = 'Quartiere', how = 'left')\nprint(basel_data)"
        },
        {
            "cell_type": "code",
            "execution_count": null,
            "metadata": {},
            "outputs": [],
            "source": ""
        }
    ],
    "metadata": {
        "kernelspec": {
            "display_name": "Python 3.7",
            "language": "python",
            "name": "python3"
        },
        "language_info": {
            "codemirror_mode": {
                "name": "ipython",
                "version": 3
            },
            "file_extension": ".py",
            "mimetype": "text/x-python",
            "name": "python",
            "nbconvert_exporter": "python",
            "pygments_lexer": "ipython3",
            "version": "3.7.10"
        }
    },
    "nbformat": 4,
    "nbformat_minor": 1
}